{
 "cells": [
  {
   "cell_type": "code",
   "execution_count": 1,
   "metadata": {},
   "outputs": [
    {
     "name": "stderr",
     "output_type": "stream",
     "text": [
      "2024-03-28 00:11:33.550280: E external/local_xla/xla/stream_executor/cuda/cuda_dnn.cc:9261] Unable to register cuDNN factory: Attempting to register factory for plugin cuDNN when one has already been registered\n",
      "2024-03-28 00:11:33.550325: E external/local_xla/xla/stream_executor/cuda/cuda_fft.cc:607] Unable to register cuFFT factory: Attempting to register factory for plugin cuFFT when one has already been registered\n",
      "2024-03-28 00:11:33.551209: E external/local_xla/xla/stream_executor/cuda/cuda_blas.cc:1515] Unable to register cuBLAS factory: Attempting to register factory for plugin cuBLAS when one has already been registered\n",
      "2024-03-28 00:11:33.557817: I tensorflow/core/platform/cpu_feature_guard.cc:182] This TensorFlow binary is optimized to use available CPU instructions in performance-critical operations.\n",
      "To enable the following instructions: AVX2 FMA, in other operations, rebuild TensorFlow with the appropriate compiler flags.\n",
      "2024-03-28 00:11:34.289184: W tensorflow/compiler/tf2tensorrt/utils/py_utils.cc:38] TF-TRT Warning: Could not find TensorRT\n"
     ]
    }
   ],
   "source": [
    "from imports import cv2, os, np, tf, ImageDataGenerator, plt, pd, requests\n",
    "import confidential\n",
    "\n",
    "firebase_url = confidential.get_url()\n",
    "\n",
    "response = requests.get(firebase_url)\n",
    "\n",
    "data = response.json()\n",
    "data_list = [value for key, value in data.items()]\n",
    "\n",
    "df = pd.DataFrame(data_list)\n",
    "df = df[[\"name\", \"url\"]]\n",
    "\n",
    "def download_image(url, name):\n",
    "    response = requests.get(url)\n",
    "    image_data = response.content\n",
    "    array = bytearray(image_data)\n",
    "\n",
    "    image = cv2.imdecode(np.asarray(array, dtype=np.uint8), cv2.IMREAD_COLOR)\n",
    "    image = cv2.cvtColor(image, cv2.COLOR_BGR2RGB)\n",
    "    image = cv2.resize(image, (180, 180))\n",
    "    return image\n",
    "\n",
    "images = []\n",
    "\n",
    "for index, row in df.iterrows():\n",
    "    image = download_image(row[\"url\"], row[\"name\"])\n",
    "    images.append(image)\n",
    "\n",
    "images = np.array(images)"
   ]
  },
  {
   "cell_type": "code",
   "execution_count": 2,
   "metadata": {},
   "outputs": [
    {
     "name": "stdout",
     "output_type": "stream",
     "text": [
      "(2, 180, 180, 3)\n"
     ]
    }
   ],
   "source": [
    "print(images.shape)"
   ]
  },
  {
   "cell_type": "code",
   "execution_count": 3,
   "metadata": {},
   "outputs": [],
   "source": [
    "precision = 50\n",
    "\n",
    "def augment_images(images):\n",
    "    train_datagen = ImageDataGenerator(rescale=1./255,\n",
    "                                        rotation_range=40,\n",
    "                                        width_shift_range=0.2,\n",
    "                                        height_shift_range=0.2,\n",
    "                                        shear_range=0.2,\n",
    "                                        zoom_range=0.2,\n",
    "                                        horizontal_flip=True,\n",
    "                                        fill_mode='nearest')\n",
    "    augmented_images = []\n",
    "    for image in images:\n",
    "        image = np.expand_dims(image, 0)\n",
    "        i = 0\n",
    "        for batch in train_datagen.flow(image, batch_size=1):\n",
    "            augmented_images.append(batch)\n",
    "            i += 1\n",
    "            if i >= precision:\n",
    "                break\n",
    "    return augmented_images\n",
    "\n",
    "augmented_images = augment_images(images)\n",
    "augmented_images = np.array(augmented_images).reshape(-1, 180, 180, 3)"
   ]
  },
  {
   "cell_type": "code",
   "execution_count": 4,
   "metadata": {},
   "outputs": [],
   "source": [
    "labels = df[\"name\"].values\n",
    "labels = np.repeat(labels, precision)"
   ]
  },
  {
   "cell_type": "code",
   "execution_count": 5,
   "metadata": {},
   "outputs": [
    {
     "name": "stderr",
     "output_type": "stream",
     "text": [
      "2024-03-28 00:11:36.503203: I external/local_xla/xla/stream_executor/cuda/cuda_executor.cc:887] could not open file to read NUMA node: /sys/bus/pci/devices/0000:01:00.0/numa_node\n",
      "Your kernel may have been built without NUMA support.\n"
     ]
    },
    {
     "name": "stdout",
     "output_type": "stream",
     "text": [
      "Epoch 1/50\n"
     ]
    },
    {
     "name": "stderr",
     "output_type": "stream",
     "text": [
      "2024-03-28 00:11:36.521857: I external/local_xla/xla/stream_executor/cuda/cuda_executor.cc:887] could not open file to read NUMA node: /sys/bus/pci/devices/0000:01:00.0/numa_node\n",
      "Your kernel may have been built without NUMA support.\n",
      "2024-03-28 00:11:36.521922: I external/local_xla/xla/stream_executor/cuda/cuda_executor.cc:887] could not open file to read NUMA node: /sys/bus/pci/devices/0000:01:00.0/numa_node\n",
      "Your kernel may have been built without NUMA support.\n",
      "2024-03-28 00:11:36.523610: I external/local_xla/xla/stream_executor/cuda/cuda_executor.cc:887] could not open file to read NUMA node: /sys/bus/pci/devices/0000:01:00.0/numa_node\n",
      "Your kernel may have been built without NUMA support.\n",
      "2024-03-28 00:11:36.523781: I external/local_xla/xla/stream_executor/cuda/cuda_executor.cc:887] could not open file to read NUMA node: /sys/bus/pci/devices/0000:01:00.0/numa_node\n",
      "Your kernel may have been built without NUMA support.\n",
      "2024-03-28 00:11:36.523831: I external/local_xla/xla/stream_executor/cuda/cuda_executor.cc:887] could not open file to read NUMA node: /sys/bus/pci/devices/0000:01:00.0/numa_node\n",
      "Your kernel may have been built without NUMA support.\n",
      "2024-03-28 00:11:36.624320: I external/local_xla/xla/stream_executor/cuda/cuda_executor.cc:887] could not open file to read NUMA node: /sys/bus/pci/devices/0000:01:00.0/numa_node\n",
      "Your kernel may have been built without NUMA support.\n",
      "2024-03-28 00:11:36.624511: I external/local_xla/xla/stream_executor/cuda/cuda_executor.cc:887] could not open file to read NUMA node: /sys/bus/pci/devices/0000:01:00.0/numa_node\n",
      "Your kernel may have been built without NUMA support.\n",
      "2024-03-28 00:11:36.624522: I tensorflow/core/common_runtime/gpu/gpu_device.cc:2022] Could not identify NUMA node of platform GPU id 0, defaulting to 0.  Your kernel may not have been built with NUMA support.\n",
      "2024-03-28 00:11:36.624586: I external/local_xla/xla/stream_executor/cuda/cuda_executor.cc:887] could not open file to read NUMA node: /sys/bus/pci/devices/0000:01:00.0/numa_node\n",
      "Your kernel may have been built without NUMA support.\n",
      "2024-03-28 00:11:36.624606: I tensorflow/core/common_runtime/gpu/gpu_device.cc:1929] Created device /job:localhost/replica:0/task:0/device:GPU:0 with 5564 MB memory:  -> device: 0, name: NVIDIA GeForce RTX 3070, pci bus id: 0000:01:00.0, compute capability: 8.6\n",
      "2024-03-28 00:11:37.592736: I external/local_xla/xla/stream_executor/cuda/cuda_dnn.cc:454] Loaded cuDNN version 8904\n",
      "2024-03-28 00:11:37.676735: I external/local_tsl/tsl/platform/default/subprocess.cc:304] Start cannot spawn child process: No such file or directory\n",
      "2024-03-28 00:11:37.949398: I external/local_tsl/tsl/platform/default/subprocess.cc:304] Start cannot spawn child process: No such file or directory\n",
      "2024-03-28 00:11:38.005693: I external/local_xla/xla/service/service.cc:168] XLA service 0x7f2b203482c0 initialized for platform CUDA (this does not guarantee that XLA will be used). Devices:\n",
      "2024-03-28 00:11:38.005728: I external/local_xla/xla/service/service.cc:176]   StreamExecutor device (0): NVIDIA GeForce RTX 3070, Compute Capability 8.6\n",
      "2024-03-28 00:11:38.010235: I tensorflow/compiler/mlir/tensorflow/utils/dump_mlir_util.cc:269] disabling MLIR crash reproducer, set env var `MLIR_CRASH_REPRODUCER_DIRECTORY` to enable.\n",
      "WARNING: All log messages before absl::InitializeLog() is called are written to STDERR\n",
      "I0000 00:00:1711581098.088015  170621 device_compiler.h:186] Compiled cluster using XLA!  This line is logged at most once for the lifetime of the process.\n"
     ]
    },
    {
     "name": "stdout",
     "output_type": "stream",
     "text": [
      "4/4 [==============================] - 3s 179ms/step - loss: 3.7468 - accuracy: 0.5800\n",
      "Epoch 2/50\n",
      "4/4 [==============================] - 0s 19ms/step - loss: 0.9169 - accuracy: 0.3800\n",
      "Epoch 3/50\n",
      "4/4 [==============================] - 0s 19ms/step - loss: 0.3992 - accuracy: 0.8600\n",
      "Epoch 4/50\n",
      "4/4 [==============================] - 0s 19ms/step - loss: 0.1593 - accuracy: 0.9400\n",
      "Epoch 5/50\n",
      "4/4 [==============================] - 0s 19ms/step - loss: 0.0221 - accuracy: 1.0000\n",
      "Epoch 6/50\n",
      "4/4 [==============================] - 0s 19ms/step - loss: 0.0055 - accuracy: 1.0000\n",
      "Epoch 7/50\n",
      "4/4 [==============================] - 0s 19ms/step - loss: 3.0522e-04 - accuracy: 1.0000\n",
      "Epoch 8/50\n",
      "4/4 [==============================] - 0s 19ms/step - loss: 2.0415e-05 - accuracy: 1.0000\n",
      "Epoch 9/50\n",
      "4/4 [==============================] - 0s 19ms/step - loss: 8.6936e-06 - accuracy: 1.0000\n",
      "Epoch 10/50\n",
      "4/4 [==============================] - 0s 19ms/step - loss: 2.7745e-05 - accuracy: 1.0000\n",
      "Epoch 11/50\n",
      "4/4 [==============================] - 0s 21ms/step - loss: 4.7944e-05 - accuracy: 1.0000\n",
      "Epoch 12/50\n",
      "4/4 [==============================] - 0s 19ms/step - loss: 3.7414e-05 - accuracy: 1.0000\n",
      "Epoch 13/50\n",
      "4/4 [==============================] - 0s 19ms/step - loss: 1.4032e-05 - accuracy: 1.0000\n",
      "Epoch 14/50\n",
      "4/4 [==============================] - 0s 19ms/step - loss: 4.6442e-06 - accuracy: 1.0000\n",
      "Epoch 15/50\n",
      "4/4 [==============================] - 0s 20ms/step - loss: 1.3900e-06 - accuracy: 1.0000\n",
      "Epoch 16/50\n",
      "4/4 [==============================] - 0s 20ms/step - loss: 6.1631e-07 - accuracy: 1.0000\n",
      "Epoch 17/50\n",
      "4/4 [==============================] - 0s 20ms/step - loss: 4.3869e-07 - accuracy: 1.0000\n",
      "Epoch 18/50\n",
      "4/4 [==============================] - 0s 20ms/step - loss: 3.8147e-07 - accuracy: 1.0000\n",
      "Epoch 19/50\n",
      "4/4 [==============================] - 0s 20ms/step - loss: 3.5763e-07 - accuracy: 1.0000\n",
      "Epoch 20/50\n",
      "4/4 [==============================] - 0s 20ms/step - loss: 3.5047e-07 - accuracy: 1.0000\n",
      "Epoch 21/50\n",
      "4/4 [==============================] - 0s 19ms/step - loss: 3.4809e-07 - accuracy: 1.0000\n",
      "Epoch 22/50\n",
      "4/4 [==============================] - 0s 19ms/step - loss: 3.4690e-07 - accuracy: 1.0000\n",
      "Epoch 23/50\n",
      "4/4 [==============================] - 0s 18ms/step - loss: 3.4690e-07 - accuracy: 1.0000\n",
      "Epoch 24/50\n",
      "4/4 [==============================] - 0s 19ms/step - loss: 3.4690e-07 - accuracy: 1.0000\n",
      "Epoch 25/50\n",
      "4/4 [==============================] - 0s 19ms/step - loss: 3.4690e-07 - accuracy: 1.0000\n",
      "Epoch 26/50\n",
      "4/4 [==============================] - 0s 19ms/step - loss: 3.4451e-07 - accuracy: 1.0000\n",
      "Epoch 27/50\n",
      "4/4 [==============================] - 0s 18ms/step - loss: 3.4332e-07 - accuracy: 1.0000\n",
      "Epoch 28/50\n",
      "4/4 [==============================] - 0s 19ms/step - loss: 3.3855e-07 - accuracy: 1.0000\n",
      "Epoch 29/50\n",
      "4/4 [==============================] - 0s 19ms/step - loss: 3.3855e-07 - accuracy: 1.0000\n",
      "Epoch 30/50\n",
      "4/4 [==============================] - 0s 19ms/step - loss: 3.3617e-07 - accuracy: 1.0000\n",
      "Epoch 31/50\n",
      "4/4 [==============================] - 0s 19ms/step - loss: 3.3259e-07 - accuracy: 1.0000\n",
      "Epoch 32/50\n",
      "4/4 [==============================] - 0s 19ms/step - loss: 3.3140e-07 - accuracy: 1.0000\n",
      "Epoch 33/50\n",
      "4/4 [==============================] - 0s 19ms/step - loss: 3.2783e-07 - accuracy: 1.0000\n",
      "Epoch 34/50\n",
      "4/4 [==============================] - 0s 19ms/step - loss: 3.2902e-07 - accuracy: 1.0000\n",
      "Epoch 35/50\n",
      "4/4 [==============================] - 0s 18ms/step - loss: 3.2783e-07 - accuracy: 1.0000\n",
      "Epoch 36/50\n",
      "4/4 [==============================] - 0s 19ms/step - loss: 3.2783e-07 - accuracy: 1.0000\n",
      "Epoch 37/50\n",
      "4/4 [==============================] - 0s 20ms/step - loss: 3.2544e-07 - accuracy: 1.0000\n",
      "Epoch 38/50\n",
      "4/4 [==============================] - 0s 19ms/step - loss: 3.2186e-07 - accuracy: 1.0000\n",
      "Epoch 39/50\n",
      "4/4 [==============================] - 0s 19ms/step - loss: 3.1829e-07 - accuracy: 1.0000\n",
      "Epoch 40/50\n",
      "4/4 [==============================] - 0s 19ms/step - loss: 3.1710e-07 - accuracy: 1.0000\n",
      "Epoch 41/50\n",
      "4/4 [==============================] - 0s 19ms/step - loss: 3.1471e-07 - accuracy: 1.0000\n",
      "Epoch 42/50\n",
      "4/4 [==============================] - 0s 19ms/step - loss: 3.1471e-07 - accuracy: 1.0000\n",
      "Epoch 43/50\n",
      "4/4 [==============================] - 0s 19ms/step - loss: 3.1471e-07 - accuracy: 1.0000\n",
      "Epoch 44/50\n",
      "4/4 [==============================] - 0s 18ms/step - loss: 3.1233e-07 - accuracy: 1.0000\n",
      "Epoch 45/50\n",
      "4/4 [==============================] - 0s 19ms/step - loss: 3.0994e-07 - accuracy: 1.0000\n",
      "Epoch 46/50\n",
      "4/4 [==============================] - 0s 19ms/step - loss: 3.1114e-07 - accuracy: 1.0000\n",
      "Epoch 47/50\n",
      "4/4 [==============================] - 0s 18ms/step - loss: 3.1233e-07 - accuracy: 1.0000\n",
      "Epoch 48/50\n",
      "4/4 [==============================] - 0s 19ms/step - loss: 3.1114e-07 - accuracy: 1.0000\n",
      "Epoch 49/50\n",
      "4/4 [==============================] - 0s 19ms/step - loss: 3.1233e-07 - accuracy: 1.0000\n",
      "Epoch 50/50\n",
      "4/4 [==============================] - 0s 18ms/step - loss: 3.0994e-07 - accuracy: 1.0000\n"
     ]
    },
    {
     "data": {
      "text/plain": [
       "<keras.src.callbacks.History at 0x7f2c7949e440>"
      ]
     },
     "execution_count": 5,
     "metadata": {},
     "output_type": "execute_result"
    }
   ],
   "source": [
    "model = tf.keras.Sequential([\n",
    "    tf.keras.layers.Conv2D(32, (3, 3), activation='relu', input_shape=(180, 180, 3)),\n",
    "    tf.keras.layers.MaxPooling2D(2, 2),\n",
    "    tf.keras.layers.Conv2D(64, (3, 3), activation='relu'),\n",
    "    tf.keras.layers.MaxPooling2D(2, 2),\n",
    "    tf.keras.layers.Conv2D(128, (3, 3), activation='relu'),\n",
    "    tf.keras.layers.MaxPooling2D(2, 2),\n",
    "    tf.keras.layers.Flatten(),\n",
    "    tf.keras.layers.Dense(512, activation='relu'),\n",
    "    tf.keras.layers.Dense(2, activation='softmax')\n",
    "])\n",
    "\n",
    "model.compile(optimizer='adam', loss='sparse_categorical_crossentropy', metrics=['accuracy'])\n",
    "\n",
    "#encode labels with sklearn\n",
    "from sklearn.preprocessing import LabelEncoder\n",
    "le = LabelEncoder()\n",
    "labels = le.fit_transform(labels)\n",
    "\n",
    "model.fit(augmented_images, labels, epochs=50)"
   ]
  },
  {
   "cell_type": "code",
   "execution_count": 8,
   "metadata": {},
   "outputs": [
    {
     "name": "stdout",
     "output_type": "stream",
     "text": [
      "1/1 [==============================] - 0s 13ms/step\n",
      "['Lennart']\n"
     ]
    }
   ],
   "source": [
    "#predict on given image\n",
    "test_image = cv2.imread(\"test.jpg\")\n",
    "test_image = cv2.cvtColor(test_image, cv2.COLOR_BGR2RGB)\n",
    "test_image = cv2.resize(test_image, (180, 180))\n",
    "test_image = np.expand_dims(test_image, 0)\n",
    "\n",
    "prediction = model.predict(test_image)\n",
    "prediction = le.inverse_transform([np.argmax(prediction)])\n",
    "print(prediction)"
   ]
  }
 ],
 "metadata": {
  "kernelspec": {
   "display_name": "ml",
   "language": "python",
   "name": "python3"
  },
  "language_info": {
   "codemirror_mode": {
    "name": "ipython",
    "version": 3
   },
   "file_extension": ".py",
   "mimetype": "text/x-python",
   "name": "python",
   "nbconvert_exporter": "python",
   "pygments_lexer": "ipython3",
   "version": "3.10.13"
  }
 },
 "nbformat": 4,
 "nbformat_minor": 2
}
